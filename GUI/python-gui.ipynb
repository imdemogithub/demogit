{
 "cells": [
  {
   "cell_type": "markdown",
   "metadata": {},
   "source": [
    "# GUI - Graphical User Interface\n",
    "\n",
    "## What is GUI?\n",
    "### GUI stands for Graphical User Interface. This is a type of user interface where user interacts with the computer graphics.\n",
    "\n",
    "### GUI Objects:\n",
    "> * Icons\n",
    "> * Images\n",
    "> * Navigations or navigation bars\n",
    "> * Buttons\n",
    "> * Dropdown list\n",
    "> * Checkboxes\n",
    "> * Radio Buttons\n",
    "> * Input boxes and text boxes\n",
    "> * Hyperlink\n",
    "\n",
    "## GUI Plateforms\n",
    "> * Operating System - Windows, macOS, linux.\n",
    "> * Web Applications\n",
    "\n",
    "## GUI with Python\n",
    "### Python provides a gui library called tkinter also known as tk interface.\n",
    "\n",
    "### >>> import tkinter\n",
    "### >>> print(dir(tkinter))"
   ]
  },
  {
   "cell_type": "code",
   "execution_count": 3,
   "metadata": {},
   "outputs": [],
   "source": [
    "import tkinter"
   ]
  },
  {
   "cell_type": "code",
   "execution_count": 4,
   "metadata": {},
   "outputs": [
    {
     "name": "stdout",
     "output_type": "stream",
     "text": [
      "['ACTIVE', 'ALL', 'ANCHOR', 'ARC', 'BASELINE', 'BEVEL', 'BOTH', 'BOTTOM', 'BROWSE', 'BUTT', 'BaseWidget', 'BitmapImage', 'BooleanVar', 'Button', 'CASCADE', 'CENTER', 'CHAR', 'CHECKBUTTON', 'CHORD', 'COMMAND', 'CURRENT', 'CallWrapper', 'Canvas', 'Checkbutton', 'DISABLED', 'DOTBOX', 'DoubleVar', 'E', 'END', 'EW', 'EXCEPTION', 'EXTENDED', 'Entry', 'Event', 'EventType', 'FALSE', 'FIRST', 'FLAT', 'Frame', 'GROOVE', 'Grid', 'HIDDEN', 'HORIZONTAL', 'INSERT', 'INSIDE', 'Image', 'IntVar', 'LAST', 'LEFT', 'Label', 'LabelFrame', 'Listbox', 'MITER', 'MOVETO', 'MULTIPLE', 'Menu', 'Menubutton', 'Message', 'Misc', 'N', 'NE', 'NO', 'NONE', 'NORMAL', 'NS', 'NSEW', 'NUMERIC', 'NW', 'NoDefaultRoot', 'OFF', 'ON', 'OUTSIDE', 'OptionMenu', 'PAGES', 'PIESLICE', 'PROJECTING', 'Pack', 'PanedWindow', 'PhotoImage', 'Place', 'RADIOBUTTON', 'RAISED', 'READABLE', 'RIDGE', 'RIGHT', 'ROUND', 'Radiobutton', 'S', 'SCROLL', 'SE', 'SEL', 'SEL_FIRST', 'SEL_LAST', 'SEPARATOR', 'SINGLE', 'SOLID', 'SUNKEN', 'SW', 'Scale', 'Scrollbar', 'Spinbox', 'StringVar', 'TOP', 'TRUE', 'Tcl', 'TclError', 'TclVersion', 'Text', 'Tk', 'TkVersion', 'Toplevel', 'UNDERLINE', 'UNITS', 'VERTICAL', 'Variable', 'W', 'WORD', 'WRITABLE', 'Widget', 'Wm', 'X', 'XView', 'Y', 'YES', 'YView', '__all__', '__builtins__', '__cached__', '__doc__', '__file__', '__loader__', '__name__', '__package__', '__path__', '__spec__', '_cnfmerge', '_default_root', '_exit', '_flatten', '_get_default_root', '_join', '_magic_re', '_setit', '_space_re', '_splitdict', '_stringify', '_support_default_root', '_test', '_tkerror', '_tkinter', '_varnum', 'constants', 'enum', 'getboolean', 'getdouble', 'getint', 'image_names', 'image_types', 'mainloop', 're', 'sys', 'types', 'wantobjects']\n"
     ]
    }
   ],
   "source": [
    "print(dir(tkinter))"
   ]
  },
  {
   "cell_type": "code",
   "execution_count": 5,
   "metadata": {},
   "outputs": [],
   "source": [
    "window = tkinter.Tk()"
   ]
  },
  {
   "cell_type": "code",
   "execution_count": 6,
   "metadata": {},
   "outputs": [
    {
     "data": {
      "text/plain": [
       "''"
      ]
     },
     "execution_count": 6,
     "metadata": {},
     "output_type": "execute_result"
    }
   ],
   "source": [
    "window.title(\"First GUI Window\")"
   ]
  },
  {
   "cell_type": "code",
   "execution_count": 7,
   "metadata": {},
   "outputs": [],
   "source": [
    "window.mainloop()"
   ]
  },
  {
   "cell_type": "code",
   "execution_count": 8,
   "metadata": {},
   "outputs": [],
   "source": [
    "window = tkinter.Tk()\n",
    "window.title(\"First GUI Window\")\n",
    "\n",
    "window.geometry(\"500x350\")\n",
    "\n",
    "window.mainloop()"
   ]
  },
  {
   "cell_type": "code",
   "execution_count": 16,
   "metadata": {},
   "outputs": [
    {
     "name": "stdout",
     "output_type": "stream",
     "text": [
      "button clicked\n",
      "button clicked\n",
      "button clicked\n"
     ]
    }
   ],
   "source": [
    "import tkinter.messagebox as msg\n",
    "\n",
    "window = tkinter.Tk()\n",
    "window.title(\"First GUI Window\")\n",
    "\n",
    "window.geometry(\"500x350\")\n",
    "\n",
    "window.resizable(False, False)\n",
    "\n",
    "lbl = tkinter.Label(window, text=\"First Name\")\n",
    "lbl.place(x=20, y=20)\n",
    "\n",
    "inp = tkinter.Entry()\n",
    "inp.place(x=20, y=40)\n",
    "\n",
    "def cmd():\n",
    "    print('button clicked')\n",
    "    val = inp.get()\n",
    "\n",
    "    if val:\n",
    "        if val.isalpha():\n",
    "            msg.showinfo(\"Success\", inp.get())\n",
    "        else:\n",
    "            msg.showwarning(\"Warning\", \"only alphabates allowed.\")\n",
    "    else:\n",
    "        msg.showerror(\"Error\", \"error box\")\n",
    "    \n",
    "\n",
    "btn = tkinter.Button(text=\"Submit\", command=cmd)\n",
    "btn.place(x=20, y=60)\n",
    "\n",
    "window.mainloop()"
   ]
  },
  {
   "cell_type": "code",
   "execution_count": null,
   "metadata": {},
   "outputs": [],
   "source": []
  }
 ],
 "metadata": {
  "kernelspec": {
   "display_name": "Python 3.9.7 ('base')",
   "language": "python",
   "name": "python3"
  },
  "language_info": {
   "codemirror_mode": {
    "name": "ipython",
    "version": 3
   },
   "file_extension": ".py",
   "mimetype": "text/x-python",
   "name": "python",
   "nbconvert_exporter": "python",
   "pygments_lexer": "ipython3",
   "version": "3.9.7"
  },
  "orig_nbformat": 4,
  "vscode": {
   "interpreter": {
    "hash": "610a6f344c2137faf927ea819c63f6cee33a2c04455044b28099f39fe9722347"
   }
  }
 },
 "nbformat": 4,
 "nbformat_minor": 2
}
